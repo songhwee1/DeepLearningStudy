#변수 confmat에 y_true와 y_pred의 혼동 행렬 저장하기

#모듈 import
import numpy
from sklearn.metrics import confusion_matrix

#데이터 저장. 0:양성 1:음성
y_true = [0,0,0,1,1,1]
y_pred = [1,0,0,1,1,1]

#변수 confmat에 y_true와 y_pred의 혼동행렬 저장
confmat = confusion_matrix(y_true, y_pred)

#결과 출력
print(confmat)
