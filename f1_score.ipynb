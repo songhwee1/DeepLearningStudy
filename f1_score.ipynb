#성능 평가지표 구현

#적합률, 재현율
from sklearn.metrics import precision_score
from sklearn.metrics import recall_score

#데이터 저장(0:양성, 1:음성)
y_true = [1,1,1,0,0,0]
y_pred = [0,1,1,0,0,0]

#적합률, 재현률 계산
precision = precision_score(y_true, y_pred)
recall = recall_score(y_true, y_pred)

#F1 계산식
f1_score = 2 * (precision * recall) / (precision + recall)

print("F1: %.3f" % f1_score)
